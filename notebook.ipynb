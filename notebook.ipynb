{
 "cells": [
  {
   "cell_type": "code",
   "execution_count": 1,
   "metadata": {},
   "outputs": [],
   "source": [
    "import numpy as np\n",
    "import pandas as pd\n",
    "from matplotlib import pyplot as plt\n",
    "from sklearn.datasets import make_classification"
   ]
  },
  {
   "attachments": {},
   "cell_type": "markdown",
   "metadata": {},
   "source": [
    "### Make fake dataset"
   ]
  },
  {
   "cell_type": "code",
   "execution_count": 5,
   "metadata": {},
   "outputs": [],
   "source": [
    "def make_dataset(size: int=100, na_percentage: float=0.2, n_feat=8):\n",
    "    X, y = make_classification(n_samples=size, n_features=n_feat, n_classes=2)\n",
    "    df = pd.DataFrame(X, columns=[c for c in \"ABCDEFGHIJKLMNOPQRSTUVWXYZ\"[:n_feat]])\n",
    "    df[\"target\"]:np.ndarray = y\n",
    "    for col in df.columns:\n",
    "        index_sampled = df[col].sample(int(size * (na_percentage + np.random.randint(-3,3)/100))).index\n",
    "        df.loc[index_sampled, col] = pd.NA # type: ignore\n",
    "    \n",
    "    return df\n"
   ]
  },
  {
   "cell_type": "code",
   "execution_count": 6,
   "metadata": {},
   "outputs": [
    {
     "data": {
      "text/html": [
       "<div>\n",
       "<style scoped>\n",
       "    .dataframe tbody tr th:only-of-type {\n",
       "        vertical-align: middle;\n",
       "    }\n",
       "\n",
       "    .dataframe tbody tr th {\n",
       "        vertical-align: top;\n",
       "    }\n",
       "\n",
       "    .dataframe thead th {\n",
       "        text-align: right;\n",
       "    }\n",
       "</style>\n",
       "<table border=\"1\" class=\"dataframe\">\n",
       "  <thead>\n",
       "    <tr style=\"text-align: right;\">\n",
       "      <th></th>\n",
       "      <th>A</th>\n",
       "      <th>B</th>\n",
       "      <th>C</th>\n",
       "      <th>D</th>\n",
       "      <th>E</th>\n",
       "      <th>F</th>\n",
       "      <th>G</th>\n",
       "      <th>H</th>\n",
       "      <th>target</th>\n",
       "    </tr>\n",
       "  </thead>\n",
       "  <tbody>\n",
       "    <tr>\n",
       "      <th>0</th>\n",
       "      <td>1.052816</td>\n",
       "      <td>NaN</td>\n",
       "      <td>-0.904638</td>\n",
       "      <td>-0.774830</td>\n",
       "      <td>NaN</td>\n",
       "      <td>NaN</td>\n",
       "      <td>NaN</td>\n",
       "      <td>-2.013570</td>\n",
       "      <td>0.0</td>\n",
       "    </tr>\n",
       "    <tr>\n",
       "      <th>1</th>\n",
       "      <td>0.713330</td>\n",
       "      <td>2.029396</td>\n",
       "      <td>0.180542</td>\n",
       "      <td>1.011846</td>\n",
       "      <td>0.788575</td>\n",
       "      <td>-1.741237</td>\n",
       "      <td>1.207288</td>\n",
       "      <td>0.756678</td>\n",
       "      <td>0.0</td>\n",
       "    </tr>\n",
       "    <tr>\n",
       "      <th>2</th>\n",
       "      <td>1.340263</td>\n",
       "      <td>0.469565</td>\n",
       "      <td>0.876741</td>\n",
       "      <td>-1.346308</td>\n",
       "      <td>NaN</td>\n",
       "      <td>-2.040843</td>\n",
       "      <td>0.912660</td>\n",
       "      <td>1.143914</td>\n",
       "      <td>0.0</td>\n",
       "    </tr>\n",
       "    <tr>\n",
       "      <th>3</th>\n",
       "      <td>NaN</td>\n",
       "      <td>1.477530</td>\n",
       "      <td>-0.082733</td>\n",
       "      <td>0.701579</td>\n",
       "      <td>0.793035</td>\n",
       "      <td>-1.632736</td>\n",
       "      <td>1.083015</td>\n",
       "      <td>0.467479</td>\n",
       "      <td>0.0</td>\n",
       "    </tr>\n",
       "    <tr>\n",
       "      <th>4</th>\n",
       "      <td>NaN</td>\n",
       "      <td>-0.942844</td>\n",
       "      <td>-0.743319</td>\n",
       "      <td>0.694226</td>\n",
       "      <td>-1.710680</td>\n",
       "      <td>2.695205</td>\n",
       "      <td>-1.420289</td>\n",
       "      <td>-0.637216</td>\n",
       "      <td>1.0</td>\n",
       "    </tr>\n",
       "  </tbody>\n",
       "</table>\n",
       "</div>"
      ],
      "text/plain": [
       "          A         B         C         D         E         F         G  \\\n",
       "0  1.052816       NaN -0.904638 -0.774830       NaN       NaN       NaN   \n",
       "1  0.713330  2.029396  0.180542  1.011846  0.788575 -1.741237  1.207288   \n",
       "2  1.340263  0.469565  0.876741 -1.346308       NaN -2.040843  0.912660   \n",
       "3       NaN  1.477530 -0.082733  0.701579  0.793035 -1.632736  1.083015   \n",
       "4       NaN -0.942844 -0.743319  0.694226 -1.710680  2.695205 -1.420289   \n",
       "\n",
       "          H  target  \n",
       "0 -2.013570     0.0  \n",
       "1  0.756678     0.0  \n",
       "2  1.143914     0.0  \n",
       "3  0.467479     0.0  \n",
       "4 -0.637216     1.0  "
      ]
     },
     "execution_count": 6,
     "metadata": {},
     "output_type": "execute_result"
    }
   ],
   "source": [
    "data = make_dataset()\n",
    "data.head()"
   ]
  },
  {
   "attachments": {},
   "cell_type": "markdown",
   "metadata": {},
   "source": [
    "## Test VEDA"
   ]
  },
  {
   "cell_type": "code",
   "execution_count": 34,
   "metadata": {},
   "outputs": [
    {
     "data": {
      "image/png": "[encoded data removed]",
      "text/plain": [
       "<Figure size 960x480 with 2 Axes>"
      ]
     },
     "metadata": {},
     "output_type": "display_data"
    }
   ],
   "source": [
    "plt.style.use(\"ggplot\")\n",
    "from veda import viz_missing\n",
    "\n",
    "viz_missing(df=data, fig_size=(12,6))"
   ]
  }
 ],
 "metadata": {
  "kernelspec": {
   "display_name": "base",
   "language": "python",
   "name": "python3"
  },
  "language_info": {
   "codemirror_mode": {
    "name": "ipython",
    "version": 3
   },
   "file_extension": ".py",
   "mimetype": "text/x-python",
   "name": "python",
   "nbconvert_exporter": "python",
   "pygments_lexer": "ipython3",
   "version": "3.9.16"
  },
  "orig_nbformat": 4
 },
 "nbformat": 4,
 "nbformat_minor": 2
}
